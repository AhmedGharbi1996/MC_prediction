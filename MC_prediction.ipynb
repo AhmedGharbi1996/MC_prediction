{
 "cells": [
  {
   "cell_type": "code",
   "execution_count": 86,
   "metadata": {},
   "outputs": [],
   "source": [
    "import gym # loading the Gym library\n",
    "import matplotlib\n",
    "import numpy as np\n",
    "from collections import defaultdict\n",
    "from random import randrange\n",
    "\n",
    "\n"
   ]
  },
  {
   "cell_type": "code",
   "execution_count": 155,
   "metadata": {},
   "outputs": [],
   "source": [
    "env = gym.make(\"FrozenLake-v0\")"
   ]
  },
  {
   "cell_type": "code",
   "execution_count": 195,
   "metadata": {},
   "outputs": [],
   "source": [
    "def MC_prediction(policy,env,num_episodes,discount_factor=1.0):\n",
    "    #keeping track  of sum and count of returns for each state\n",
    "    returns_sum=defaultdict(float)\n",
    "    returns_count=defaultdict(int)\n",
    "    #the final value function\n",
    "    V=defaultdict(float)\n",
    "    \n",
    "    for i_th_episode in range(1,num_episodes+1):\n",
    "        #generate an episode\n",
    "        #an episode is a list of (state,action,reward) tuples\n",
    "        episode=[]\n",
    "        state=env.reset()\n",
    "        while (1):\n",
    "            action=policy(state)\n",
    "            next_state,reward,done,info=env.step(action)\n",
    "            episode.append((state,action,reward))\n",
    "            if (done):\n",
    "                break\n",
    "            state=next_state\n",
    "        \n",
    "        #creating a set of the visited states during the current episode\n",
    "        visited_states=set(x[0] for x in episode)\n",
    "        \n",
    "        for i_state in visited_states:\n",
    "            #finding the first occurance of i_state\n",
    "            first_occ_idx=next(i for i,x in enumerate(episode) if x[0] == i_state)\n",
    "            #summing the rewards since the first occurance\n",
    "            G=sum(x[2]*(discount_factor**j) for j,x in enumerate(episode[first_occ_idx:]))\n",
    "            \n",
    "            #calculating the average return\n",
    "            returns_sum[i_state] +=G\n",
    "            returns_count[i_state] +=1\n",
    "            V[i_state]=returns_sum[i_state]/returns_count[i_state]\n",
    "    return(V)\n",
    "        \n",
    "        "
   ]
  },
  {
   "cell_type": "code",
   "execution_count": 199,
   "metadata": {},
   "outputs": [],
   "source": [
    "#creating a policy\n",
    "\n",
    "def policy(observation):\n",
    "    \n",
    "    if (observation%4==0):\n",
    "        return (2)\n",
    "    if (observation%4==3):\n",
    "        return(0)\n",
    "    \n",
    "    r=randrange(4)\n",
    "    return(r)"
   ]
  },
  {
   "cell_type": "code",
   "execution_count": 203,
   "metadata": {},
   "outputs": [],
   "source": [
    "V_100k=MC_prediction(policy, env, num_episodes=10000,discount_factor=1)"
   ]
  },
  {
   "cell_type": "code",
   "execution_count": 204,
   "metadata": {},
   "outputs": [
    {
     "data": {
      "text/plain": [
       "defaultdict(float,\n",
       "            {0: 0.0133,\n",
       "             1: 0.012106537530266344,\n",
       "             2: 0.022388059701492536,\n",
       "             6: 0.04269662921348315,\n",
       "             4: 0.015337423312883436,\n",
       "             8: 0.031643156690812045,\n",
       "             9: 0.08077260755048288,\n",
       "             13: 0.1751269035532995,\n",
       "             3: 0.014134275618374558,\n",
       "             10: 0.14202898550724638,\n",
       "             14: 0.434640522875817})"
      ]
     },
     "execution_count": 204,
     "metadata": {},
     "output_type": "execute_result"
    }
   ],
   "source": [
    "V_100k"
   ]
  },
  {
   "cell_type": "code",
   "execution_count": 202,
   "metadata": {},
   "outputs": [
    {
     "name": "stdout",
     "output_type": "stream",
     "text": [
      "  (Left)\n",
      "SFFF\n",
      "F\u001b[41mH\u001b[0mFH\n",
      "FFFH\n",
      "HFFG\n"
     ]
    }
   ],
   "source": [
    "env.render()"
   ]
  }
 ],
 "metadata": {
  "kernelspec": {
   "display_name": "Python 3",
   "language": "python",
   "name": "python3"
  },
  "language_info": {
   "codemirror_mode": {
    "name": "ipython",
    "version": 3
   },
   "file_extension": ".py",
   "mimetype": "text/x-python",
   "name": "python",
   "nbconvert_exporter": "python",
   "pygments_lexer": "ipython3",
   "version": "3.6.8"
  }
 },
 "nbformat": 4,
 "nbformat_minor": 2
}
